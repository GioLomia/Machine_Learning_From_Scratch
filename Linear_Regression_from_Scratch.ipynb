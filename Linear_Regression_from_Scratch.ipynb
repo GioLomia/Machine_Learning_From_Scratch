{
  "nbformat": 4,
  "nbformat_minor": 0,
  "metadata": {
    "colab": {
      "name": "Linear_Regression_from_Scratch.ipynb",
      "version": "0.3.2",
      "provenance": [],
      "include_colab_link": true
    },
    "kernelspec": {
      "name": "python3",
      "display_name": "Python 3"
    }
  },
  "cells": [
    {
      "cell_type": "markdown",
      "metadata": {
        "id": "view-in-github",
        "colab_type": "text"
      },
      "source": [
        "<a href=\"https://colab.research.google.com/github/GioLomia/Machine_Learning_From_Scratch/blob/master/Linear_Regression_from_Scratch.ipynb\" target=\"_parent\"><img src=\"https://colab.research.google.com/assets/colab-badge.svg\" alt=\"Open In Colab\"/></a>"
      ]
    },
    {
      "metadata": {
        "id": "oARTw8xPtPAL",
        "colab_type": "text"
      },
      "cell_type": "markdown",
      "source": [
        "# Creating Linear Regression Algorithm from scratch.\n",
        "**equation of a line: y=mx+b**\n",
        "\n",
        "I am going to create a regression algorithm in pure python and numpy, from scratch. Using only math and my understanding of the theory behind it.\n",
        "<br/> *Also Credit: SantDex for helpful video tutorials.*\n",
        "<br/>Material to understand the concepts covered in this notebook: \n",
        "    [how to calculate linear regression slope and intercept](https://www.statisticshowto.datasciencecentral.com/probability-and-statistics/regression-analysis/find-a-linear-regression-equation/#FindaLinear)"
      ]
    },
    {
      "metadata": {
        "id": "phKmlBPUspoW",
        "colab_type": "code",
        "colab": {}
      },
      "cell_type": "code",
      "source": [
        "from statistics import mean\n",
        "import numpy as np\n",
        "import random\n",
        "import matplotlib.pyplot as plt\n",
        "from matplotlib import style"
      ],
      "execution_count": 0,
      "outputs": []
    },
    {
      "metadata": {
        "id": "HMCfEYKyMv5T",
        "colab_type": "code",
        "colab": {}
      },
      "cell_type": "code",
      "source": [
        "xs = np.array(random.sample(range(1, 200), 50),dtype=np.float64) #Generate unique data points.\n",
        "ys = np.array([(0.66478*i+23.6123)-random.uniform(-17.5,17.5) for i in xs ],dtype=np.float64) #create the formula for the equation with some introduced noise."
      ],
      "execution_count": 0,
      "outputs": []
    },
    {
      "metadata": {
        "id": "ubbH535xOzEa",
        "colab_type": "code",
        "outputId": "bb7a02ac-2ae5-4697-9325-ba5433823f7f",
        "colab": {
          "base_uri": "https://localhost:8080/",
          "height": 34
        }
      },
      "cell_type": "code",
      "source": [
        "print(xs[:5],ys[:5]) "
      ],
      "execution_count": 108,
      "outputs": [
        {
          "output_type": "stream",
          "text": [
            "[ 35. 144.  43. 131. 157.] [ 37.79996749 117.06673292  57.35301775  98.3687953  129.48406169]\n"
          ],
          "name": "stdout"
        }
      ]
    },
    {
      "metadata": {
        "id": "ftT_vqwlNo8o",
        "colab_type": "code",
        "outputId": "b688c282-b4ad-49c6-a1bd-f22262ca7932",
        "colab": {
          "base_uri": "https://localhost:8080/",
          "height": 369
        }
      },
      "cell_type": "code",
      "source": [
        "#Plotting the data points.\n",
        "plt.scatter(xs,ys)\n",
        "plt.show()"
      ],
      "execution_count": 109,
      "outputs": [
        {
          "output_type": "display_data",
          "data": {
            "image/png": "[encoded data removed]",
            "text/plain": [
              "<Figure size 576x396 with 1 Axes>"
            ]
          },
          "metadata": {
            "tags": []
          }
        }
      ]
    },
    {
      "metadata": {
        "id": "rhrjrxNPQifF",
        "colab_type": "code",
        "colab": {}
      },
      "cell_type": "code",
      "source": [
        "class LinearReg:\n",
        "    def __init__(self,x,y):\n",
        "        self.m=0\n",
        "        self.b=0\n",
        "        self.x=x\n",
        "        self.y=y\n",
        "#Function To calculate the slope and intercept of the line of the best fit\n",
        "    def fit(self):\n",
        "        \n",
        "        x=self.x\n",
        "        y=self.y\n",
        "        self.m=((mean(x)*mean(y))-mean(x*y))/((mean(x)**2)-mean(x**2))\n",
        "        self.b=mean(y)-m*mean(x)\n",
        "    def predict(self,val):\n",
        "        \n",
        "        if type(val)!=list:\n",
        "            return self.m*val+self.b\n",
        "        else: \n",
        "            return [i*self.m + self.b for i in val]\n",
        "    def s_error(self):\n",
        "        return sum([((self.predict(self.x[i])-self.y[i])**2) for i in range(len(self.x))])\n",
        "    def mean_error(self):\n",
        "        return sum([((self.predict(self.x[i])-mean(self.y))**2) for i in range(len(self.x))])\n",
        "    def accuracy(self):\n",
        "        y_mean_line=mean(self.y)\n",
        "        return 1-self.s_error()/self.mean_error()\n"
      ],
      "execution_count": 0,
      "outputs": []
    },
    {
      "metadata": {
        "id": "qi4uqYYrDhWm",
        "colab_type": "code",
        "colab": {
          "base_uri": "https://localhost:8080/",
          "height": 34
        },
        "outputId": "8dc9b7de-8388-41d2-f989-d8edbe79910c"
      },
      "cell_type": "code",
      "source": [
        "\n",
        "model=LinearReg(xs,ys) #initialize the model and pass in the data\n",
        "model.fit() # generate the line of best fit according to the model\n",
        "print('Accuracy: '+ str(model.accuracy()))\n",
        "pred_set=np.array([30,82,45,201])\n",
        "prediction=model.predict(pred_set) #predict the data points "
      ],
      "execution_count": 111,
      "outputs": [
        {
          "output_type": "stream",
          "text": [
            "Accuracy: 0.921316859473684\n"
          ],
          "name": "stdout"
        }
      ]
    },
    {
      "metadata": {
        "id": "vDHcUi4PNY3C",
        "colab_type": "code",
        "colab": {}
      },
      "cell_type": "code",
      "source": [
        "extension=np.linspace(0,210,210)\n",
        "pred_line=extension*model.m+model.b"
      ],
      "execution_count": 0,
      "outputs": []
    },
    {
      "metadata": {
        "id": "wcUP4WzeTE8o",
        "colab_type": "code",
        "outputId": "dce68862-3c0f-4a6e-fd01-43fa4b810e1f",
        "colab": {
          "base_uri": "https://localhost:8080/",
          "height": 369
        }
      },
      "cell_type": "code",
      "source": [
        "style.use('fivethirtyeight')\n",
        "plt.scatter(xs,ys)\n",
        "plt.plot(pred_line,'-g')\n",
        "plt.scatter(pred_set,prediction)\n",
        "plt.show()"
      ],
      "execution_count": 113,
      "outputs": [
        {
          "output_type": "display_data",
          "data": {
            "image/png": "[encoded data removed]",
            "text/plain": [
              "<Figure size 576x396 with 1 Axes>"
            ]
          },
          "metadata": {
            "tags": []
          }
        }
      ]
    },
    {
      "metadata": {
        "id": "na3PN8GCG2g4",
        "colab_type": "code",
        "colab": {}
      },
      "cell_type": "code",
      "source": [
        ""
      ],
      "execution_count": 0,
      "outputs": []
    }
  ]
}