{
  "nbformat": 4,
  "nbformat_minor": 0,
  "metadata": {
    "colab": {
      "name": "Linear_Regression_from_Scratch.ipynb",
      "version": "0.3.2",
      "provenance": [],
      "include_colab_link": true
    },
    "kernelspec": {
      "name": "python3",
      "display_name": "Python 3"
    }
  },
  "cells": [
    {
      "cell_type": "markdown",
      "metadata": {
        "id": "view-in-github",
        "colab_type": "text"
      },
      "source": [
        "<a href=\"https://colab.research.google.com/github/GioLomia/Machine_Learning_From_Scratch/blob/master/Linear_Regression_from_Scratch.ipynb\" target=\"_parent\"><img src=\"https://colab.research.google.com/assets/colab-badge.svg\" alt=\"Open In Colab\"/></a>"
      ]
    },
    {
      "metadata": {
        "id": "oARTw8xPtPAL",
        "colab_type": "text"
      },
      "cell_type": "markdown",
      "source": [
        "# Creating Linear Regression Algorithm from scratch.\n",
        "**equation of a line: y=mx+b**\n",
        "\n",
        "I am going to create a regression algorithm in pure python and numpy, from scratch. Using only math and my understanding of the theory behind it.\n",
        "<br/> *Also Credit: SantDex for helpful video tutorials.*\n",
        "<br/>Material to understand the concepts covered in this notebook: \n",
        "    [how to calculate linear regression slope and intercept](https://www.statisticshowto.datasciencecentral.com/probability-and-statistics/regression-analysis/find-a-linear-regression-equation/#FindaLinear)"
      ]
    },
    {
      "metadata": {
        "id": "phKmlBPUspoW",
        "colab_type": "code",
        "colab": {}
      },
      "cell_type": "code",
      "source": [
        "from statistics import mean\n",
        "import numpy as np\n",
        "import random\n",
        "import matplotlib.pyplot as plt\n",
        "from matplotlib import style"
      ],
      "execution_count": 0,
      "outputs": []
    },
    {
      "metadata": {
        "id": "HMCfEYKyMv5T",
        "colab_type": "code",
        "colab": {}
      },
      "cell_type": "code",
      "source": [
        "xs = np.array(random.sample(range(1, 200), 50),dtype=np.float64) #Generate unique data points.\n",
        "ys = np.array([(0.66478*i+23.6123)-random.uniform(-17.5,17.5) for i in xs ],dtype=np.float64) #create the formula for the equation with some introduced noise."
      ],
      "execution_count": 0,
      "outputs": []
    },
    {
      "metadata": {
        "id": "ubbH535xOzEa",
        "colab_type": "code",
        "outputId": "df7d29f9-7082-440e-cd1f-6633559dddc7",
        "colab": {
          "base_uri": "https://localhost:8080/",
          "height": 34
        }
      },
      "cell_type": "code",
      "source": [
        "print(xs[:5],ys[:5]) "
      ],
      "execution_count": 3,
      "outputs": [
        {
          "output_type": "stream",
          "text": [
            "[182.  72.   4.  35. 164.] [141.74501974  84.77058927  27.38981824  56.09666528 135.41310437]\n"
          ],
          "name": "stdout"
        }
      ]
    },
    {
      "metadata": {
        "id": "ftT_vqwlNo8o",
        "colab_type": "code",
        "outputId": "9b2c831b-8b7f-43e4-ce4c-c4dc2a8eca36",
        "colab": {
          "base_uri": "https://localhost:8080/",
          "height": 347
        }
      },
      "cell_type": "code",
      "source": [
        "#Plotting the data points.\n",
        "plt.scatter(xs,ys)\n",
        "plt.show()"
      ],
      "execution_count": 4,
      "outputs": [
        {
          "output_type": "display_data",
          "data": {
            "image/png": "[encoded data removed]",
            "text/plain": [
              "<Figure size 576x396 with 1 Axes>"
            ]
          },
          "metadata": {
            "tags": []
          }
        }
      ]
    },
    {
      "metadata": {
        "id": "rhrjrxNPQifF",
        "colab_type": "code",
        "colab": {}
      },
      "cell_type": "code",
      "source": [
        "class LinearReg:\n",
        "    def __init__(self,x,y):\n",
        "        self.m=0\n",
        "        self.b=0\n",
        "        self.x=x\n",
        "        self.y=y\n",
        "#Function To calculate the slope and intercept of the line of the best fit\n",
        "    def fit(self):\n",
        "        x=self.x\n",
        "        y=self.y\n",
        "        self.m=((mean(x)*mean(y))-mean(x*y))/((mean(x)**2)-mean(x**2))\n",
        "        self.b=mean(y)-self.m*mean(x)\n",
        "    def predict(self,val):\n",
        "        if type(val)!=list:\n",
        "            return self.m*val+self.b\n",
        "        else: \n",
        "            return [i*self.m + self.b for i in val]\n",
        "    def s_error(self):\n",
        "        return sum([((self.predict(self.x[i])-self.y[i])**2) for i in range(len(self.x))])\n",
        "    def mean_error(self):\n",
        "        return sum([((self.predict(self.x[i])-mean(self.y))**2) for i in range(len(self.x))])\n",
        "    def accuracy(self):\n",
        "        y_mean_line=mean(self.y)\n",
        "        return 1-self.s_error()/self.mean_error()\n"
      ],
      "execution_count": 0,
      "outputs": []
    },
    {
      "metadata": {
        "id": "qi4uqYYrDhWm",
        "colab_type": "code",
        "colab": {
          "base_uri": "https://localhost:8080/",
          "height": 34
        },
        "outputId": "d2694d3d-9596-4b82-e20c-f5bfa0bdd82b"
      },
      "cell_type": "code",
      "source": [
        "\n",
        "model=LinearReg(xs,ys) #initialize the model and pass in the data\n",
        "model.fit() # generate the line of best fit according to the model\n",
        "\n",
        "print('Accuracy: '+ str(model.accuracy()))\n",
        "pred_set=np.array([30,82,45,201])\n",
        "prediction=model.predict(pred_set) #predict the data points "
      ],
      "execution_count": 11,
      "outputs": [
        {
          "output_type": "stream",
          "text": [
            "Accuracy: 0.9467244800772986\n"
          ],
          "name": "stdout"
        }
      ]
    },
    {
      "metadata": {
        "id": "vDHcUi4PNY3C",
        "colab_type": "code",
        "colab": {}
      },
      "cell_type": "code",
      "source": [
        "extension=np.linspace(0,210,210)\n",
        "pred_line=extension*model.m+model.b"
      ],
      "execution_count": 0,
      "outputs": []
    },
    {
      "metadata": {
        "id": "wcUP4WzeTE8o",
        "colab_type": "code",
        "outputId": "518ae875-7c83-4e47-d05d-db2baab4cc30",
        "colab": {
          "base_uri": "https://localhost:8080/",
          "height": 369
        }
      },
      "cell_type": "code",
      "source": [
        "style.use('fivethirtyeight')\n",
        "plt.scatter(xs,ys)\n",
        "plt.plot(pred_line,'-g')\n",
        "plt.scatter(pred_set,prediction)\n",
        "plt.show()"
      ],
      "execution_count": 13,
      "outputs": [
        {
          "output_type": "display_data",
          "data": {
            "image/png": "[encoded data removed]",
            "text/plain": [
              "<Figure size 576x396 with 1 Axes>"
            ]
          },
          "metadata": {
            "tags": []
          }
        }
      ]
    },
    {
      "metadata": {
        "id": "na3PN8GCG2g4",
        "colab_type": "code",
        "colab": {}
      },
      "cell_type": "code",
      "source": [
        ""
      ],
      "execution_count": 0,
      "outputs": []
    }
  ]
}